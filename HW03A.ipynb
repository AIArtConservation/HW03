{
 "cells": [
  {
   "cell_type": "markdown",
   "metadata": {},
   "source": [
    "# HW03A\n",
    "\n",
    "## Some exercises with lists of objects (dataset)"
   ]
  },
  {
   "cell_type": "markdown",
   "metadata": {},
   "source": [
    "## Setup\n",
    "\n",
    "Let's import some helper functions and libraries"
   ]
  },
  {
   "cell_type": "code",
   "execution_count": null,
   "metadata": {},
   "outputs": [],
   "source": [
    "import json"
   ]
  },
  {
   "cell_type": "markdown",
   "metadata": {},
   "source": [
    "### Load Data\n",
    "\n",
    "Here we are opening a JSON file, reading the JSON string in the file, turning it into Python values and loading them into Python variables."
   ]
  },
  {
   "cell_type": "code",
   "execution_count": null,
   "metadata": {},
   "outputs": [],
   "source": [
    "with open(\"./data/art.json\", \"r\") as fp:\n",
    "  art = json.load(fp)"
   ]
  },
  {
   "cell_type": "markdown",
   "metadata": {},
   "source": [
    "### Take a look at data\n",
    "\n",
    "We can print the content and the type of our variables."
   ]
  },
  {
   "cell_type": "code",
   "execution_count": null,
   "metadata": {
    "tags": [
     "work_cell"
    ]
   },
   "outputs": [],
   "source": [
    "# TODO: What's inside the art variable ?"
   ]
  },
  {
   "cell_type": "code",
   "execution_count": null,
   "metadata": {
    "tags": [
     "work_cell"
    ]
   },
   "outputs": [],
   "source": [
    "# TODO print type of each member of the dictionary"
   ]
  },
  {
   "cell_type": "markdown",
   "metadata": {},
   "source": [
    "### Explore"
   ]
  },
  {
   "cell_type": "code",
   "execution_count": null,
   "metadata": {
    "tags": [
     "work_cell"
    ]
   },
   "outputs": [],
   "source": [
    "# How many artworks are in the dataset?\n",
    "\n",
    "# What's the oldest artwork?\n",
    "\n",
    "# How many artworks in the Tate?\n",
    "#   For this, we can create a variable that starts at 0 and\n",
    "#   increments every time we encounter an object that has \"Tate\" as the \"museum\"\n",
    "\n",
    "# How many from Brazil?\n",
    "#   Similar to above, but we increment a counter when \"origin\" is \"Brazil\"\n",
    "\n",
    "# How many different movements are considered?\n",
    "#   Here we can create a separate list that has all of the values associated with the \"movement\" keys of our objects.\n",
    "#   This list will have repeated values, but we can use set() and then len() to grab \n",
    "#   and count the unique values of this list\n",
    "\n",
    "# Which museum has the most artworks?\n",
    "#   A bit trickier. Here we want to create an object that associates museum names with number of pieces.\n",
    "#   We can start with an empty object, then, for every art piece, we check if its museum exists as a key in the object.\n",
    "#   If it doesn't we create a key with the name of the museum and set its count to 1.\n",
    "#   If it does, we increment its count.\n",
    "#   Afterwards we sort the items() of this object by value"
   ]
  }
 ],
 "metadata": {
  "kernelspec": {
   "display_name": "9103",
   "language": "python",
   "name": "python3"
  },
  "language_info": {
   "codemirror_mode": {
    "name": "ipython",
    "version": 3
   },
   "file_extension": ".py",
   "mimetype": "text/x-python",
   "name": "python",
   "nbconvert_exporter": "python",
   "pygments_lexer": "ipython3",
   "version": "3.10.15"
  }
 },
 "nbformat": 4,
 "nbformat_minor": 2
}
