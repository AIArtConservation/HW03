{
 "cells": [
  {
   "cell_type": "markdown",
   "metadata": {},
   "source": [
    "# HW03A\n",
    "\n",
    "## Some exercises with lists of objects (dataset)"
   ]
  },
  {
   "cell_type": "markdown",
   "metadata": {},
   "source": [
    "## Setup\n",
    "\n",
    "Let's import some helper functions and libraries"
   ]
  },
  {
   "cell_type": "code",
   "execution_count": 1,
   "metadata": {},
   "outputs": [],
   "source": [
    "import json"
   ]
  },
  {
   "cell_type": "markdown",
   "metadata": {},
   "source": [
    "### Load Data\n",
    "\n",
    "Here we are opening a JSON file, reading the JSON string in the file, turning it into Python values and loading them into Python variables."
   ]
  },
  {
   "cell_type": "code",
   "execution_count": 2,
   "metadata": {},
   "outputs": [],
   "source": [
    "with open(\"./data/art.json\", \"r\") as fp:\n",
    "  art = json.load(fp)"
   ]
  },
  {
   "cell_type": "markdown",
   "metadata": {},
   "source": [
    "### Take a look at data\n",
    "\n",
    "We can print the content and the type of our variables."
   ]
  },
  {
   "cell_type": "code",
   "execution_count": 9,
   "metadata": {
    "tags": [
     "work_cell"
    ]
   },
   "outputs": [
    {
     "data": {
      "text/plain": [
       "{'artist': 'Giorgio de Chirico',\n",
       " 'title': 'The Uncertainty of the Poet ',\n",
       " 'movement': 'surrealism',\n",
       " 'museum': 'Tate',\n",
       " 'origin': 'Italy',\n",
       " 'medium': 'painting',\n",
       " 'size': '106 x 94 cm',\n",
       " 'date': '1913',\n",
       " 'representational': True}"
      ]
     },
     "execution_count": 9,
     "metadata": {},
     "output_type": "execute_result"
    }
   ],
   "source": [
    "# TODO: What's inside the art variable ?\n",
    "art[0]"
   ]
  },
  {
   "cell_type": "code",
   "execution_count": null,
   "metadata": {
    "tags": [
     "work_cell"
    ]
   },
   "outputs": [
    {
     "name": "stdout",
     "output_type": "stream",
     "text": [
      "artist <class 'str'>\n",
      "title <class 'str'>\n",
      "movement <class 'str'>\n",
      "museum <class 'str'>\n",
      "origin <class 'str'>\n",
      "medium <class 'str'>\n",
      "size <class 'str'>\n",
      "date <class 'str'>\n",
      "representational <class 'bool'>\n"
     ]
    }
   ],
   "source": [
    "# TODO print type of each member of the dictionary\n",
    "\n",
    "for key,val in art[0].items():\n",
    "  print(key, type(val))\n",
    "  "
   ]
  },
  {
   "cell_type": "markdown",
   "metadata": {},
   "source": [
    "### Explore"
   ]
  },
  {
   "cell_type": "code",
   "execution_count": null,
   "metadata": {
    "tags": [
     "work_cell"
    ]
   },
   "outputs": [
    {
     "name": "stdout",
     "output_type": "stream",
     "text": [
      "{'artist': 'Juan de Flandes ', 'title': 'The Ascension', 'movement': 'representation', 'museum': 'Prado Museum', 'origin': 'Flanders / Belgium', 'medium': 'painting', 'size': '110 x 84 cm', 'date': '1514 - 1519 ', 'representational': True}\n",
      "How many artworks in the Tate? 142\n",
      "How many from Brazil? 8\n",
      "How many different movements are considered? 29\n",
      "which museum has the most artworks? ('Tate', 142)\n"
     ]
    },
    {
     "data": {
      "text/plain": [
       "dict_items([('Tate', 142), ('Sikkema Jenkins', 1), ('Cleveland Museum of Art', 1), ('Whitney', 1), ('Petzel Gallery', 1), ('robertholyhead.com (has work in Tate)', 1), ('Sean Kelly Gallery', 1), ('Hauser & Wirth Gallery', 1), ('Lehmann Maupin Gallery', 2), ('Karsten Schubert Gallery', 1), ('art-3gallery.com (has work in Tate)', 1), ('Sperone Westwater', 1), ('David Zwirner Gallery', 2), ('lilianelijn.com (and Tate)', 1), ('Camden Arts Center (Tate also)', 1), ('Met show', 1), ('Tate Liverpool', 1), ('e-flux, also in Tate', 1), ('Andrea Rosen Gallery (also Tate)', 1), ('Kinetic Art fair (also Tate)', 1), ('White Cube Gallery (also Tate)', 2), ('kamelmennour.com  (also Tate)', 1), ('MACBA Collection also Tate', 1), ('303 Gallery, also Tate', 1), ('NYT also Tate', 1), ('Saatchi also Tate', 1), ('Whitney also in Tate', 1), ('Mutual Art also in Tate', 2), ('Tate ', 1), ('Museo Reina Sof�_a', 1), ('Met also Tate', 2), ('File Magazine also Tate', 1), (' judit-reigl.com also Tate', 1), ('levadrouilleururbain also Tate', 1), ('Hauser & Wirth Gallery (also Tate)', 1), ('MoMA also Tate', 5), ('Foxy Production (also Tate)', 1), ('Gagosian also Tate', 2), ('Getty also Tate', 1), ('Pace Gallery (also Tate)', 1), (' mcachicago.org (also Tate)', 1), ('De Buck Gallery also Tate', 1), ('wikiart.org also Tate', 2), ('Capitain Petzel Gallery also Tate', 1), ('perrotin.com also Tate', 1), ('artnet.com also Tate', 1), ('Lehmann Maupin Gallery also Tate', 1), ('alison-turnbull.com also Tate', 1), ('Pulitzer Gallery also Tate', 1), ('MoMA', 112), ('Guggenheim also Tate', 1), ('Wide Walls also Tate', 1), ('xavierhufkens.com and also Tate', 1), ('Dia also Tate', 1), ('Victoria Miro Gallery also Tate', 1), ('luhringaugustine.com also Tate', 1), ('Andrew Kreps Gallery', 1), ('fondationcartier.com, BEAUT�� CONGO 2015 exhibition', 1), ('Galerie Cécile Fakhoury', 5), ('Gallery Chemould Prescott Road, Mumbai also National Gallery of Modern Art, India ', 1), ('ArtNet.com also National Gallery of Modern Art, India', 1), ('Gallery Chemould Prescott Road, Mumbai', 4), (\"Cholamandal Artists' Village, Madras\", 4), ('Prado Museum', 14), ('Met Museum', 1), ('japingkaaboriginalart.com', 3), ('sonyakellihercombs.com/', 1), ('New Yorker also MoMA', 1), ('I-20 Gallery also MoMA', 1), ('Bortolami Gallery, also MoMA', 1), ('Miguel Abreu and Whitney Biennial 2012 and MoMA', 1), ('Axel Vervoordt Gallery also MoMA', 1), ('Ramen Crucible gallery and MoMA', 1), ('eileenquinlan.com  and MoMA', 1), ('Greene Naftali Gallery and MoMA', 2), ('Tanya Bonakdar Gallery and MoMA', 2), ('Gladstone Gallery also MoMA', 1), ('47 Canal also MoMA', 1), ('Tate also MoMA', 2), ('Callicoon Arts also MoMA', 1), ('Cheim & Read also MoMA', 1), ('David Zwirner Gallery also MoMA', 1), ('David Kordansky Gallery also MoMA', 1), ('Van Doren Waxter also MoMA', 1), ('Luhring Augustine also  MoMA', 1), ('Lehmann Maupin Gallery also MoMA', 1), ('303 Gallery also MoMA', 1), ('James Cohan Gallery also MoMA', 1), ('Gagosian also MoMA', 1), ('David Zwirner also MoMA', 1), ('Whitney also MoMA', 1), ('SIkkema Jenkins Gallery also MoMA', 1), ('LACMA also MoMA', 1), ('Artsy also MoMA', 1), ('Pompidou', 1), ('Hauser and Wirth', 3), ('Tanya Bonakdar Gallery', 1), ('Jeff Koons website', 1), ('Tate Gallery', 1), ('artnet', 1), ('Marseille-M̩diterran̩e School of Art and Design ', 1), ('Galerie Emmanuel Herv̩', 1), ('YouTube ', 1), ('Aaran Gallery also LACMA', 1), ('LACMA', 3), (\"Vasl Artists' Collective\", 2), ('Sprueth Magers', 1), ('artradarjournal.com', 1)])"
      ]
     },
     "execution_count": 41,
     "metadata": {},
     "output_type": "execute_result"
    }
   ],
   "source": [
    "# How many artworks are in the dataset?\n",
    "len(art)\n",
    "\n",
    "# What's the oldest artwork?\n",
    "j = 2025\n",
    "\n",
    "for i in art:\n",
    "    date_year = i[\"date\"]\n",
    "    num = date_year.split()  \n",
    "    \n",
    "    for digits in num: \n",
    "        if digits.isdigit():  \n",
    "            year = int(digits) \n",
    "            break  \n",
    "    else:\n",
    "        continue  \n",
    "\n",
    "    if year < j: \n",
    "        j = year\n",
    "        oldest = i  \n",
    "\n",
    "print(oldest)\n",
    "    \n",
    "# How many artworks in the Tate?\n",
    "#   For this, we can create a variable that starts at 0 and\n",
    "#   increments every time we encounter an object that has \"Tate\" as the \"museum\"\n",
    "num_art = 0\n",
    "for k in art: \n",
    "    mus = k[\"museum\"]\n",
    "    if mus == 'Tate': \n",
    "        num_art += 1\n",
    "\n",
    "print(\"How many artworks in the Tate?\",num_art)\n",
    "\n",
    "\n",
    "# How many from Brazil?\n",
    "#   Similar to above, but we increment a counter when \"origin\" is \"Brazil\"\n",
    "num_brazil = 0\n",
    "for p in art: \n",
    "    place = p[\"origin\"]\n",
    "    if place == 'Brazil': \n",
    "        num_brazil += 1\n",
    "\n",
    "print(\"How many from Brazil?\",num_brazil)\n",
    "\n",
    "\n",
    "\n",
    "# How many different movements are considered?\n",
    "#   Here we can create a separate list that has all of the values associated with the \"movement\" keys of our objects.\n",
    "#   This list will have repeated values, but we can use set() and then len() to grab \n",
    "#   and count the unique values of this list\n",
    "all_movements = [i[\"movement\"] for i in art]\n",
    "\n",
    "movements = set(all_movements)\n",
    "\n",
    "print(\"How many different movements are considered?\",len(movements))\n",
    "\n",
    "\n",
    "# Which museum has the most artworks?\n",
    "#   A bit trickier. Here we want to create an object that associates museum names with number of pieces.\n",
    "#   We can start with an empty object, then, for every art piece, we check if its museum exists as a key in the object.\n",
    "#   If it doesn't we create a key with the name of the museum and set its count to 1.\n",
    "#   If it does, we increment its count.\n",
    "#   Afterwards we sort the items() of this object by value\n",
    "most_obj = {}\n",
    "\n",
    "for a in art:\n",
    "    mus_1 = a[\"museum\"]\n",
    "\n",
    "    if mus_1 in most_obj:\n",
    "        most_obj[mus_1] += 1\n",
    "    else:\n",
    "        most_obj[mus_1] = 1\n",
    "\n",
    "\n",
    "print(\"which museum has the most artworks?\",list(most_obj.items())[0])\n",
    "#most_obj.items()\n",
    "\n"
   ]
  }
 ],
 "metadata": {
  "kernelspec": {
   "display_name": "Python 3",
   "language": "python",
   "name": "python3"
  },
  "language_info": {
   "codemirror_mode": {
    "name": "ipython",
    "version": 3
   },
   "file_extension": ".py",
   "mimetype": "text/x-python",
   "name": "python",
   "nbconvert_exporter": "python",
   "pygments_lexer": "ipython3",
   "version": "3.10.16"
  }
 },
 "nbformat": 4,
 "nbformat_minor": 2
}
